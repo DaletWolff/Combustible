{
  "nbformat": 4,
  "nbformat_minor": 0,
  "metadata": {
    "colab": {
      "name": "Combustible.ipynb",
      "provenance": [],
      "collapsed_sections": []
    },
    "kernelspec": {
      "name": "python3",
      "display_name": "Python 3"
    },
    "widgets": {
      "application/vnd.jupyter.widget-state+json": {
        "4dac564c940d42729f205222b021ccba": {
          "model_module": "@jupyter-widgets/controls",
          "model_name": "VBoxModel",
          "state": {
            "_view_name": "VBoxView",
            "_dom_classes": [
              "widget-interact"
            ],
            "_model_name": "VBoxModel",
            "_view_module": "@jupyter-widgets/controls",
            "_model_module_version": "1.5.0",
            "_view_count": null,
            "_view_module_version": "1.5.0",
            "box_style": "",
            "layout": "IPY_MODEL_965657bf58b942de93c41093a2100d04",
            "_model_module": "@jupyter-widgets/controls",
            "children": [
              "IPY_MODEL_2c009130063a4e6cb2dea15fc7cd9012",
              "IPY_MODEL_577451400c764a6dab857882fd198fd1"
            ]
          }
        },
        "965657bf58b942de93c41093a2100d04": {
          "model_module": "@jupyter-widgets/base",
          "model_name": "LayoutModel",
          "state": {
            "_view_name": "LayoutView",
            "grid_template_rows": null,
            "right": null,
            "justify_content": null,
            "_view_module": "@jupyter-widgets/base",
            "overflow": null,
            "_model_module_version": "1.2.0",
            "_view_count": null,
            "flex_flow": null,
            "width": null,
            "min_width": null,
            "border": null,
            "align_items": null,
            "bottom": null,
            "_model_module": "@jupyter-widgets/base",
            "top": null,
            "grid_column": null,
            "overflow_y": null,
            "overflow_x": null,
            "grid_auto_flow": null,
            "grid_area": null,
            "grid_template_columns": null,
            "flex": null,
            "_model_name": "LayoutModel",
            "justify_items": null,
            "grid_row": null,
            "max_height": null,
            "align_content": null,
            "visibility": null,
            "align_self": null,
            "height": null,
            "min_height": null,
            "padding": null,
            "grid_auto_rows": null,
            "grid_gap": null,
            "max_width": null,
            "order": null,
            "_view_module_version": "1.2.0",
            "grid_template_areas": null,
            "object_position": null,
            "object_fit": null,
            "grid_auto_columns": null,
            "margin": null,
            "display": null,
            "left": null
          }
        },
        "2c009130063a4e6cb2dea15fc7cd9012": {
          "model_module": "@jupyter-widgets/controls",
          "model_name": "DropdownModel",
          "state": {
            "_options_labels": [
              "A1",
              "A2",
              "A3",
              "R1",
              "R2",
              "R3",
              "M1",
              "M2",
              "M3",
              "P1",
              "P2",
              "P3",
              "D1"
            ],
            "_view_name": "DropdownView",
            "style": "IPY_MODEL_7d6e79913227432fa3d2bf26548519ed",
            "_dom_classes": [],
            "description": "columna",
            "_model_name": "DropdownModel",
            "index": 2,
            "_view_module": "@jupyter-widgets/controls",
            "_model_module_version": "1.5.0",
            "_view_count": null,
            "disabled": false,
            "_view_module_version": "1.5.0",
            "description_tooltip": null,
            "_model_module": "@jupyter-widgets/controls",
            "layout": "IPY_MODEL_19afcaa462a74e948138062dd8a6b34b"
          }
        },
        "577451400c764a6dab857882fd198fd1": {
          "model_module": "@jupyter-widgets/output",
          "model_name": "OutputModel",
          "state": {
            "_view_name": "OutputView",
            "msg_id": "",
            "_dom_classes": [],
            "_model_name": "OutputModel",
            "outputs": [
              {
                "output_type": "display_data",
                "metadata": {
                  "tags": [],
                  "needs_background": "light"
                },
                "image/png": "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\n",
                "text/plain": "<Figure size 432x288 with 1 Axes>"
              }
            ],
            "_view_module": "@jupyter-widgets/output",
            "_model_module_version": "1.0.0",
            "_view_count": null,
            "_view_module_version": "1.0.0",
            "layout": "IPY_MODEL_a53246c310c14737a4d8ce2229c08f2c",
            "_model_module": "@jupyter-widgets/output"
          }
        },
        "7d6e79913227432fa3d2bf26548519ed": {
          "model_module": "@jupyter-widgets/controls",
          "model_name": "DescriptionStyleModel",
          "state": {
            "_view_name": "StyleView",
            "_model_name": "DescriptionStyleModel",
            "description_width": "",
            "_view_module": "@jupyter-widgets/base",
            "_model_module_version": "1.5.0",
            "_view_count": null,
            "_view_module_version": "1.2.0",
            "_model_module": "@jupyter-widgets/controls"
          }
        },
        "19afcaa462a74e948138062dd8a6b34b": {
          "model_module": "@jupyter-widgets/base",
          "model_name": "LayoutModel",
          "state": {
            "_view_name": "LayoutView",
            "grid_template_rows": null,
            "right": null,
            "justify_content": null,
            "_view_module": "@jupyter-widgets/base",
            "overflow": null,
            "_model_module_version": "1.2.0",
            "_view_count": null,
            "flex_flow": null,
            "width": null,
            "min_width": null,
            "border": null,
            "align_items": null,
            "bottom": null,
            "_model_module": "@jupyter-widgets/base",
            "top": null,
            "grid_column": null,
            "overflow_y": null,
            "overflow_x": null,
            "grid_auto_flow": null,
            "grid_area": null,
            "grid_template_columns": null,
            "flex": null,
            "_model_name": "LayoutModel",
            "justify_items": null,
            "grid_row": null,
            "max_height": null,
            "align_content": null,
            "visibility": null,
            "align_self": null,
            "height": null,
            "min_height": null,
            "padding": null,
            "grid_auto_rows": null,
            "grid_gap": null,
            "max_width": null,
            "order": null,
            "_view_module_version": "1.2.0",
            "grid_template_areas": null,
            "object_position": null,
            "object_fit": null,
            "grid_auto_columns": null,
            "margin": null,
            "display": null,
            "left": null
          }
        },
        "a53246c310c14737a4d8ce2229c08f2c": {
          "model_module": "@jupyter-widgets/base",
          "model_name": "LayoutModel",
          "state": {
            "_view_name": "LayoutView",
            "grid_template_rows": null,
            "right": null,
            "justify_content": null,
            "_view_module": "@jupyter-widgets/base",
            "overflow": null,
            "_model_module_version": "1.2.0",
            "_view_count": null,
            "flex_flow": null,
            "width": null,
            "min_width": null,
            "border": null,
            "align_items": null,
            "bottom": null,
            "_model_module": "@jupyter-widgets/base",
            "top": null,
            "grid_column": null,
            "overflow_y": null,
            "overflow_x": null,
            "grid_auto_flow": null,
            "grid_area": null,
            "grid_template_columns": null,
            "flex": null,
            "_model_name": "LayoutModel",
            "justify_items": null,
            "grid_row": null,
            "max_height": null,
            "align_content": null,
            "visibility": null,
            "align_self": null,
            "height": null,
            "min_height": null,
            "padding": null,
            "grid_auto_rows": null,
            "grid_gap": null,
            "max_width": null,
            "order": null,
            "_view_module_version": "1.2.0",
            "grid_template_areas": null,
            "object_position": null,
            "object_fit": null,
            "grid_auto_columns": null,
            "margin": null,
            "display": null,
            "left": null
          }
        },
        "e7f2533ccb924f2fb9ce7cdab331c2e9": {
          "model_module": "@jupyter-widgets/controls",
          "model_name": "VBoxModel",
          "state": {
            "_view_name": "VBoxView",
            "_dom_classes": [
              "widget-interact"
            ],
            "_model_name": "VBoxModel",
            "_view_module": "@jupyter-widgets/controls",
            "_model_module_version": "1.5.0",
            "_view_count": null,
            "_view_module_version": "1.5.0",
            "box_style": "",
            "layout": "IPY_MODEL_e637382a68f644ed99957feb4b75657a",
            "_model_module": "@jupyter-widgets/controls",
            "children": [
              "IPY_MODEL_15dcc26d51d54f2682a44428a9298d9f",
              "IPY_MODEL_d5f022bbbff94d3b8b138f48a0b5a3dc"
            ]
          }
        },
        "e637382a68f644ed99957feb4b75657a": {
          "model_module": "@jupyter-widgets/base",
          "model_name": "LayoutModel",
          "state": {
            "_view_name": "LayoutView",
            "grid_template_rows": null,
            "right": null,
            "justify_content": null,
            "_view_module": "@jupyter-widgets/base",
            "overflow": null,
            "_model_module_version": "1.2.0",
            "_view_count": null,
            "flex_flow": null,
            "width": null,
            "min_width": null,
            "border": null,
            "align_items": null,
            "bottom": null,
            "_model_module": "@jupyter-widgets/base",
            "top": null,
            "grid_column": null,
            "overflow_y": null,
            "overflow_x": null,
            "grid_auto_flow": null,
            "grid_area": null,
            "grid_template_columns": null,
            "flex": null,
            "_model_name": "LayoutModel",
            "justify_items": null,
            "grid_row": null,
            "max_height": null,
            "align_content": null,
            "visibility": null,
            "align_self": null,
            "height": null,
            "min_height": null,
            "padding": null,
            "grid_auto_rows": null,
            "grid_gap": null,
            "max_width": null,
            "order": null,
            "_view_module_version": "1.2.0",
            "grid_template_areas": null,
            "object_position": null,
            "object_fit": null,
            "grid_auto_columns": null,
            "margin": null,
            "display": null,
            "left": null
          }
        },
        "15dcc26d51d54f2682a44428a9298d9f": {
          "model_module": "@jupyter-widgets/controls",
          "model_name": "DropdownModel",
          "state": {
            "_options_labels": [
              "A1",
              "A2",
              "A3",
              "R1",
              "R2",
              "R3",
              "M1",
              "M2",
              "M3",
              "P1",
              "P2",
              "P3",
              "D1"
            ],
            "_view_name": "DropdownView",
            "style": "IPY_MODEL_4001b670402741839426611a69e746b5",
            "_dom_classes": [],
            "description": "combustible",
            "_model_name": "DropdownModel",
            "index": 0,
            "_view_module": "@jupyter-widgets/controls",
            "_model_module_version": "1.5.0",
            "_view_count": null,
            "disabled": false,
            "_view_module_version": "1.5.0",
            "description_tooltip": null,
            "_model_module": "@jupyter-widgets/controls",
            "layout": "IPY_MODEL_5a887e88f7e149dcb36cfd344224e2c2"
          }
        },
        "d5f022bbbff94d3b8b138f48a0b5a3dc": {
          "model_module": "@jupyter-widgets/output",
          "model_name": "OutputModel",
          "state": {
            "_view_name": "OutputView",
            "msg_id": "",
            "_dom_classes": [],
            "_model_name": "OutputModel",
            "outputs": [
              {
                "output_type": "stream",
                "metadata": {
                  "tags": []
                },
                "text": "/usr/local/lib/python3.7/dist-packages/ipykernel_launcher.py:4: SettingWithCopyWarning: \nA value is trying to be set on a copy of a slice from a DataFrame.\nTry using .loc[row_indexer,col_indexer] = value instead\n\nSee the caveats in the documentation: https://pandas.pydata.org/pandas-docs/stable/user_guide/indexing.html#returning-a-view-versus-a-copy\n  after removing the cwd from sys.path.\n",
                "stream": "stderr"
              },
              {
                "output_type": "display_data",
                "metadata": {
                  "tags": []
                },
                "text/html": "<div>\n<style scoped>\n    .dataframe tbody tr th:only-of-type {\n        vertical-align: middle;\n    }\n\n    .dataframe tbody tr th {\n        vertical-align: top;\n    }\n\n    .dataframe thead th {\n        text-align: right;\n    }\n</style>\n<table border=\"1\" class=\"dataframe\">\n  <thead>\n    <tr style=\"text-align: right;\">\n      <th></th>\n      <th>Lasso</th>\n      <th>Ridge</th>\n      <th>ElasticNet</th>\n      <th>BaggingRegressor</th>\n      <th>AdaBoostRegressor</th>\n      <th>GradientBoostingRegressor</th>\n      <th>RandomForestRegressor</th>\n      <th>Mejor estimador</th>\n    </tr>\n  </thead>\n  <tbody>\n    <tr>\n      <th>A1</th>\n      <td>0.966968</td>\n      <td>0.966842</td>\n      <td>0.966968</td>\n      <td>0.946526</td>\n      <td>0.935349</td>\n      <td>0.962335</td>\n      <td>0.942133</td>\n      <td>AdaBoostRegressor</td>\n    </tr>\n  </tbody>\n</table>\n</div>",
                "text/plain": "       Lasso     Ridge  ...  RandomForestRegressor    Mejor estimador\nA1  0.966968  0.966842  ...               0.942133  AdaBoostRegressor\n\n[1 rows x 8 columns]"
              }
            ],
            "_view_module": "@jupyter-widgets/output",
            "_model_module_version": "1.0.0",
            "_view_count": null,
            "_view_module_version": "1.0.0",
            "layout": "IPY_MODEL_a42e4e467f9043a1919b7dee25456a5e",
            "_model_module": "@jupyter-widgets/output"
          }
        },
        "4001b670402741839426611a69e746b5": {
          "model_module": "@jupyter-widgets/controls",
          "model_name": "DescriptionStyleModel",
          "state": {
            "_view_name": "StyleView",
            "_model_name": "DescriptionStyleModel",
            "description_width": "",
            "_view_module": "@jupyter-widgets/base",
            "_model_module_version": "1.5.0",
            "_view_count": null,
            "_view_module_version": "1.2.0",
            "_model_module": "@jupyter-widgets/controls"
          }
        },
        "5a887e88f7e149dcb36cfd344224e2c2": {
          "model_module": "@jupyter-widgets/base",
          "model_name": "LayoutModel",
          "state": {
            "_view_name": "LayoutView",
            "grid_template_rows": null,
            "right": null,
            "justify_content": null,
            "_view_module": "@jupyter-widgets/base",
            "overflow": null,
            "_model_module_version": "1.2.0",
            "_view_count": null,
            "flex_flow": null,
            "width": null,
            "min_width": null,
            "border": null,
            "align_items": null,
            "bottom": null,
            "_model_module": "@jupyter-widgets/base",
            "top": null,
            "grid_column": null,
            "overflow_y": null,
            "overflow_x": null,
            "grid_auto_flow": null,
            "grid_area": null,
            "grid_template_columns": null,
            "flex": null,
            "_model_name": "LayoutModel",
            "justify_items": null,
            "grid_row": null,
            "max_height": null,
            "align_content": null,
            "visibility": null,
            "align_self": null,
            "height": null,
            "min_height": null,
            "padding": null,
            "grid_auto_rows": null,
            "grid_gap": null,
            "max_width": null,
            "order": null,
            "_view_module_version": "1.2.0",
            "grid_template_areas": null,
            "object_position": null,
            "object_fit": null,
            "grid_auto_columns": null,
            "margin": null,
            "display": null,
            "left": null
          }
        },
        "a42e4e467f9043a1919b7dee25456a5e": {
          "model_module": "@jupyter-widgets/base",
          "model_name": "LayoutModel",
          "state": {
            "_view_name": "LayoutView",
            "grid_template_rows": null,
            "right": null,
            "justify_content": null,
            "_view_module": "@jupyter-widgets/base",
            "overflow": null,
            "_model_module_version": "1.2.0",
            "_view_count": null,
            "flex_flow": null,
            "width": null,
            "min_width": null,
            "border": null,
            "align_items": null,
            "bottom": null,
            "_model_module": "@jupyter-widgets/base",
            "top": null,
            "grid_column": null,
            "overflow_y": null,
            "overflow_x": null,
            "grid_auto_flow": null,
            "grid_area": null,
            "grid_template_columns": null,
            "flex": null,
            "_model_name": "LayoutModel",
            "justify_items": null,
            "grid_row": null,
            "max_height": null,
            "align_content": null,
            "visibility": null,
            "align_self": null,
            "height": null,
            "min_height": null,
            "padding": null,
            "grid_auto_rows": null,
            "grid_gap": null,
            "max_width": null,
            "order": null,
            "_view_module_version": "1.2.0",
            "grid_template_areas": null,
            "object_position": null,
            "object_fit": null,
            "grid_auto_columns": null,
            "margin": null,
            "display": null,
            "left": null
          }
        }
      }
    }
  },
  "cells": [
    {
      "cell_type": "markdown",
      "metadata": {
        "id": "zc1JZIN6EBQH"
      },
      "source": [
        "#Precios semanales de gasolina y diesel en USA#"
      ]
    },
    {
      "cell_type": "markdown",
      "metadata": {
        "id": "gsuFrtfnB_eP"
      },
      "source": [
        "Dataset en: https://www.kaggle.com/mruanova/us-gasoline-and-diesel-retail-prices-19952021"
      ]
    },
    {
      "cell_type": "code",
      "metadata": {
        "id": "Q1NnistVB59x"
      },
      "source": [
        "ruta = \"/content/drive/MyDrive/DataPracticas/Combustible/PET_PRI_GND_DCUS_NUS_W.csv\""
      ],
      "execution_count": 1,
      "outputs": []
    },
    {
      "cell_type": "markdown",
      "metadata": {
        "id": "t9BoPm_uESig"
      },
      "source": [
        "**Librerias**"
      ]
    },
    {
      "cell_type": "code",
      "metadata": {
        "id": "w4M3Y9aICV_7"
      },
      "source": [
        "import pandas as pd\r\n",
        "import numpy as np\r\n",
        "from sklearn.linear_model import Lasso, Ridge, ElasticNet\r\n",
        "from sklearn.model_selection import cross_val_score\r\n",
        "from sklearn.metrics import mean_squared_error\r\n",
        "from sklearn.ensemble import BaggingRegressor, AdaBoostRegressor, GradientBoostingRegressor, RandomForestRegressor\r\n",
        "from ipywidgets import interact\r\n",
        "import matplotlib.pyplot as plt\r\n",
        "%matplotlib inline"
      ],
      "execution_count": 2,
      "outputs": []
    },
    {
      "cell_type": "markdown",
      "metadata": {
        "id": "8XGAvrSZEaOB"
      },
      "source": [
        "Significado del nombre de las columnas"
      ]
    },
    {
      "cell_type": "markdown",
      "metadata": {
        "id": "rBb7VT39DC24"
      },
      "source": [
        "The data contains the following information:\r\n",
        "\r\n",
        "*   A1: Weekly U.S. All Grades All Formulations Retail Gasoline Prices (Dollars per Gallon)\r\n",
        "*   A2: Weekly U.S. All Grades Conventional Retail Gasoline Prices (Dollars per Gallon)\r\n",
        "*   A3: Weekly U.S. All Grades Reformulated Retail Gasoline Prices (Dollars per Gallon)\r\n",
        "*   R1: Weekly U.S. Regular All Formulations Retail Gasoline Prices (Dollars per Gallon)\r\n",
        "*   R2: Weekly U.S. Regular Conventional Retail Gasoline Prices (Dollars per Gallon)\r\n",
        "*   R3: Weekly U.S. Regular Reformulated Retail Gasoline Prices (Dollars per Gallon)\r\n",
        "*   M1: Weekly U.S. Midgrade All Formulations Retail Gasoline Prices (Dollars per Gallon)\r\n",
        "*   M2: Weekly U.S. Midgrade Conventional Retail Gasoline Prices (Dollars per Gallon)\r\n",
        "*   M3: Weekly U.S. Midgrade Reformulated Retail Gasoline Prices (Dollars per Gallon)\r\n",
        "*   P1: Weekly U.S. Premium All Formulations Retail Gasoline Prices (Dollars per Gallon)\r\n",
        "*   P2: Weekly U.S. Premium Conventional Retail Gasoline Prices (Dollars per Gallon)\r\n",
        "*   P3: Weekly U.S. Premium Reformulated Retail Gasoline Prices (Dollars per Gallon)\r\n",
        "*   D1: Weekly U.S. No 2 Diesel Retail Prices (Dollars per Gallon)"
      ]
    },
    {
      "cell_type": "markdown",
      "metadata": {
        "id": "1xYVHym9Dz_c"
      },
      "source": [
        "Revision del dataset"
      ]
    },
    {
      "cell_type": "code",
      "metadata": {
        "colab": {
          "base_uri": "https://localhost:8080/",
          "height": 204
        },
        "id": "vA_oCEEbCaBL",
        "outputId": "43183b1c-2624-4c4a-d05e-ae0f0be72112"
      },
      "source": [
        "df = pd.read_csv(ruta)\r\n",
        "combustible = df.copy()\r\n",
        "combustible = combustible.drop(combustible.loc[combustible['Date'].str.endswith(\"2021\")].index)\r\n",
        "combustible.head()"
      ],
      "execution_count": 3,
      "outputs": [
        {
          "output_type": "execute_result",
          "data": {
            "text/html": [
              "<div>\n",
              "<style scoped>\n",
              "    .dataframe tbody tr th:only-of-type {\n",
              "        vertical-align: middle;\n",
              "    }\n",
              "\n",
              "    .dataframe tbody tr th {\n",
              "        vertical-align: top;\n",
              "    }\n",
              "\n",
              "    .dataframe thead th {\n",
              "        text-align: right;\n",
              "    }\n",
              "</style>\n",
              "<table border=\"1\" class=\"dataframe\">\n",
              "  <thead>\n",
              "    <tr style=\"text-align: right;\">\n",
              "      <th></th>\n",
              "      <th>Date</th>\n",
              "      <th>A1</th>\n",
              "      <th>A2</th>\n",
              "      <th>A3</th>\n",
              "      <th>R1</th>\n",
              "      <th>R2</th>\n",
              "      <th>R3</th>\n",
              "      <th>M1</th>\n",
              "      <th>M2</th>\n",
              "      <th>M3</th>\n",
              "      <th>P1</th>\n",
              "      <th>P2</th>\n",
              "      <th>P3</th>\n",
              "      <th>D1</th>\n",
              "    </tr>\n",
              "  </thead>\n",
              "  <tbody>\n",
              "    <tr>\n",
              "      <th>0</th>\n",
              "      <td>01/02/1995</td>\n",
              "      <td>1.127</td>\n",
              "      <td>1.104</td>\n",
              "      <td>1.231</td>\n",
              "      <td>1.079</td>\n",
              "      <td>1.063</td>\n",
              "      <td>1.167</td>\n",
              "      <td>1.170</td>\n",
              "      <td>1.159</td>\n",
              "      <td>1.298</td>\n",
              "      <td>1.272</td>\n",
              "      <td>1.250</td>\n",
              "      <td>1.386</td>\n",
              "      <td>1.104</td>\n",
              "    </tr>\n",
              "    <tr>\n",
              "      <th>1</th>\n",
              "      <td>01/09/1995</td>\n",
              "      <td>1.134</td>\n",
              "      <td>1.111</td>\n",
              "      <td>1.232</td>\n",
              "      <td>1.086</td>\n",
              "      <td>1.070</td>\n",
              "      <td>1.169</td>\n",
              "      <td>1.177</td>\n",
              "      <td>1.164</td>\n",
              "      <td>1.300</td>\n",
              "      <td>1.279</td>\n",
              "      <td>1.256</td>\n",
              "      <td>1.387</td>\n",
              "      <td>1.102</td>\n",
              "    </tr>\n",
              "    <tr>\n",
              "      <th>2</th>\n",
              "      <td>01/16/1995</td>\n",
              "      <td>1.126</td>\n",
              "      <td>1.102</td>\n",
              "      <td>1.231</td>\n",
              "      <td>1.078</td>\n",
              "      <td>1.062</td>\n",
              "      <td>1.169</td>\n",
              "      <td>1.168</td>\n",
              "      <td>1.155</td>\n",
              "      <td>1.299</td>\n",
              "      <td>1.271</td>\n",
              "      <td>1.249</td>\n",
              "      <td>1.385</td>\n",
              "      <td>1.100</td>\n",
              "    </tr>\n",
              "    <tr>\n",
              "      <th>3</th>\n",
              "      <td>01/23/1995</td>\n",
              "      <td>1.132</td>\n",
              "      <td>1.110</td>\n",
              "      <td>1.226</td>\n",
              "      <td>1.083</td>\n",
              "      <td>1.068</td>\n",
              "      <td>1.165</td>\n",
              "      <td>1.177</td>\n",
              "      <td>1.165</td>\n",
              "      <td>1.296</td>\n",
              "      <td>1.277</td>\n",
              "      <td>1.256</td>\n",
              "      <td>1.378</td>\n",
              "      <td>1.095</td>\n",
              "    </tr>\n",
              "    <tr>\n",
              "      <th>4</th>\n",
              "      <td>01/30/1995</td>\n",
              "      <td>1.131</td>\n",
              "      <td>1.109</td>\n",
              "      <td>1.221</td>\n",
              "      <td>1.083</td>\n",
              "      <td>1.068</td>\n",
              "      <td>1.162</td>\n",
              "      <td>1.176</td>\n",
              "      <td>1.163</td>\n",
              "      <td>1.291</td>\n",
              "      <td>1.275</td>\n",
              "      <td>1.255</td>\n",
              "      <td>1.370</td>\n",
              "      <td>1.090</td>\n",
              "    </tr>\n",
              "  </tbody>\n",
              "</table>\n",
              "</div>"
            ],
            "text/plain": [
              "         Date     A1     A2     A3     R1  ...     M3     P1     P2     P3     D1\n",
              "0  01/02/1995  1.127  1.104  1.231  1.079  ...  1.298  1.272  1.250  1.386  1.104\n",
              "1  01/09/1995  1.134  1.111  1.232  1.086  ...  1.300  1.279  1.256  1.387  1.102\n",
              "2  01/16/1995  1.126  1.102  1.231  1.078  ...  1.299  1.271  1.249  1.385  1.100\n",
              "3  01/23/1995  1.132  1.110  1.226  1.083  ...  1.296  1.277  1.256  1.378  1.095\n",
              "4  01/30/1995  1.131  1.109  1.221  1.083  ...  1.291  1.275  1.255  1.370  1.090\n",
              "\n",
              "[5 rows x 14 columns]"
            ]
          },
          "metadata": {
            "tags": []
          },
          "execution_count": 3
        }
      ]
    },
    {
      "cell_type": "markdown",
      "metadata": {
        "id": "QpunZcUKEf7q"
      },
      "source": [
        "Revision de valores en el dataset"
      ]
    },
    {
      "cell_type": "code",
      "metadata": {
        "colab": {
          "base_uri": "https://localhost:8080/"
        },
        "id": "1Dy4vghlCgY7",
        "outputId": "ec978927-291d-4671-c9ef-cebf9f5fc541"
      },
      "source": [
        "combustible.dtypes"
      ],
      "execution_count": 4,
      "outputs": [
        {
          "output_type": "execute_result",
          "data": {
            "text/plain": [
              "Date     object\n",
              "A1      float64\n",
              "A2      float64\n",
              "A3      float64\n",
              "R1      float64\n",
              "R2      float64\n",
              "R3      float64\n",
              "M1      float64\n",
              "M2      float64\n",
              "M3      float64\n",
              "P1      float64\n",
              "P2      float64\n",
              "P3      float64\n",
              "D1      float64\n",
              "dtype: object"
            ]
          },
          "metadata": {
            "tags": []
          },
          "execution_count": 4
        }
      ]
    },
    {
      "cell_type": "markdown",
      "metadata": {
        "id": "VUmCGZhmEkBy"
      },
      "source": [
        "El dataset contiene 1357 registros de 13 tipos de combustible y una columna para la fecha en la que fue tomada la muestra"
      ]
    },
    {
      "cell_type": "code",
      "metadata": {
        "colab": {
          "base_uri": "https://localhost:8080/"
        },
        "id": "v2ThHiOrBaeV",
        "outputId": "658ee92b-5ed5-4620-c62d-65b675471917"
      },
      "source": [
        "combustible.shape"
      ],
      "execution_count": 5,
      "outputs": [
        {
          "output_type": "execute_result",
          "data": {
            "text/plain": [
              "(1357, 14)"
            ]
          },
          "metadata": {
            "tags": []
          },
          "execution_count": 5
        }
      ]
    },
    {
      "cell_type": "markdown",
      "metadata": {
        "id": "0jMv1pdBEwnM"
      },
      "source": [
        "Se agrega una columna unicamente para agregar el año y asi pueda ser segmentado el dataset"
      ]
    },
    {
      "cell_type": "code",
      "metadata": {
        "colab": {
          "base_uri": "https://localhost:8080/",
          "height": 204
        },
        "id": "uYbUY266Z-TD",
        "outputId": "95b3daba-8142-433d-9539-c1ca91d862b5"
      },
      "source": [
        "combustible[\"Year\"] = combustible[\"Date\"].apply(lambda x : x[-4:])\r\n",
        "combustible.head()"
      ],
      "execution_count": 6,
      "outputs": [
        {
          "output_type": "execute_result",
          "data": {
            "text/html": [
              "<div>\n",
              "<style scoped>\n",
              "    .dataframe tbody tr th:only-of-type {\n",
              "        vertical-align: middle;\n",
              "    }\n",
              "\n",
              "    .dataframe tbody tr th {\n",
              "        vertical-align: top;\n",
              "    }\n",
              "\n",
              "    .dataframe thead th {\n",
              "        text-align: right;\n",
              "    }\n",
              "</style>\n",
              "<table border=\"1\" class=\"dataframe\">\n",
              "  <thead>\n",
              "    <tr style=\"text-align: right;\">\n",
              "      <th></th>\n",
              "      <th>Date</th>\n",
              "      <th>A1</th>\n",
              "      <th>A2</th>\n",
              "      <th>A3</th>\n",
              "      <th>R1</th>\n",
              "      <th>R2</th>\n",
              "      <th>R3</th>\n",
              "      <th>M1</th>\n",
              "      <th>M2</th>\n",
              "      <th>M3</th>\n",
              "      <th>P1</th>\n",
              "      <th>P2</th>\n",
              "      <th>P3</th>\n",
              "      <th>D1</th>\n",
              "      <th>Year</th>\n",
              "    </tr>\n",
              "  </thead>\n",
              "  <tbody>\n",
              "    <tr>\n",
              "      <th>0</th>\n",
              "      <td>01/02/1995</td>\n",
              "      <td>1.127</td>\n",
              "      <td>1.104</td>\n",
              "      <td>1.231</td>\n",
              "      <td>1.079</td>\n",
              "      <td>1.063</td>\n",
              "      <td>1.167</td>\n",
              "      <td>1.170</td>\n",
              "      <td>1.159</td>\n",
              "      <td>1.298</td>\n",
              "      <td>1.272</td>\n",
              "      <td>1.250</td>\n",
              "      <td>1.386</td>\n",
              "      <td>1.104</td>\n",
              "      <td>1995</td>\n",
              "    </tr>\n",
              "    <tr>\n",
              "      <th>1</th>\n",
              "      <td>01/09/1995</td>\n",
              "      <td>1.134</td>\n",
              "      <td>1.111</td>\n",
              "      <td>1.232</td>\n",
              "      <td>1.086</td>\n",
              "      <td>1.070</td>\n",
              "      <td>1.169</td>\n",
              "      <td>1.177</td>\n",
              "      <td>1.164</td>\n",
              "      <td>1.300</td>\n",
              "      <td>1.279</td>\n",
              "      <td>1.256</td>\n",
              "      <td>1.387</td>\n",
              "      <td>1.102</td>\n",
              "      <td>1995</td>\n",
              "    </tr>\n",
              "    <tr>\n",
              "      <th>2</th>\n",
              "      <td>01/16/1995</td>\n",
              "      <td>1.126</td>\n",
              "      <td>1.102</td>\n",
              "      <td>1.231</td>\n",
              "      <td>1.078</td>\n",
              "      <td>1.062</td>\n",
              "      <td>1.169</td>\n",
              "      <td>1.168</td>\n",
              "      <td>1.155</td>\n",
              "      <td>1.299</td>\n",
              "      <td>1.271</td>\n",
              "      <td>1.249</td>\n",
              "      <td>1.385</td>\n",
              "      <td>1.100</td>\n",
              "      <td>1995</td>\n",
              "    </tr>\n",
              "    <tr>\n",
              "      <th>3</th>\n",
              "      <td>01/23/1995</td>\n",
              "      <td>1.132</td>\n",
              "      <td>1.110</td>\n",
              "      <td>1.226</td>\n",
              "      <td>1.083</td>\n",
              "      <td>1.068</td>\n",
              "      <td>1.165</td>\n",
              "      <td>1.177</td>\n",
              "      <td>1.165</td>\n",
              "      <td>1.296</td>\n",
              "      <td>1.277</td>\n",
              "      <td>1.256</td>\n",
              "      <td>1.378</td>\n",
              "      <td>1.095</td>\n",
              "      <td>1995</td>\n",
              "    </tr>\n",
              "    <tr>\n",
              "      <th>4</th>\n",
              "      <td>01/30/1995</td>\n",
              "      <td>1.131</td>\n",
              "      <td>1.109</td>\n",
              "      <td>1.221</td>\n",
              "      <td>1.083</td>\n",
              "      <td>1.068</td>\n",
              "      <td>1.162</td>\n",
              "      <td>1.176</td>\n",
              "      <td>1.163</td>\n",
              "      <td>1.291</td>\n",
              "      <td>1.275</td>\n",
              "      <td>1.255</td>\n",
              "      <td>1.370</td>\n",
              "      <td>1.090</td>\n",
              "      <td>1995</td>\n",
              "    </tr>\n",
              "  </tbody>\n",
              "</table>\n",
              "</div>"
            ],
            "text/plain": [
              "         Date     A1     A2     A3     R1  ...     P1     P2     P3     D1  Year\n",
              "0  01/02/1995  1.127  1.104  1.231  1.079  ...  1.272  1.250  1.386  1.104  1995\n",
              "1  01/09/1995  1.134  1.111  1.232  1.086  ...  1.279  1.256  1.387  1.102  1995\n",
              "2  01/16/1995  1.126  1.102  1.231  1.078  ...  1.271  1.249  1.385  1.100  1995\n",
              "3  01/23/1995  1.132  1.110  1.226  1.083  ...  1.277  1.256  1.378  1.095  1995\n",
              "4  01/30/1995  1.131  1.109  1.221  1.083  ...  1.275  1.255  1.370  1.090  1995\n",
              "\n",
              "[5 rows x 15 columns]"
            ]
          },
          "metadata": {
            "tags": []
          },
          "execution_count": 6
        }
      ]
    },
    {
      "cell_type": "markdown",
      "metadata": {
        "id": "ja9S3tdBE63u"
      },
      "source": [
        "Utilizando interact se crea un grafico con los cambios que ha tenido el precio durante el año"
      ]
    },
    {
      "cell_type": "code",
      "metadata": {
        "colab": {
          "base_uri": "https://localhost:8080/",
          "height": 343,
          "referenced_widgets": [
            "4dac564c940d42729f205222b021ccba",
            "965657bf58b942de93c41093a2100d04",
            "2c009130063a4e6cb2dea15fc7cd9012",
            "577451400c764a6dab857882fd198fd1",
            "7d6e79913227432fa3d2bf26548519ed",
            "19afcaa462a74e948138062dd8a6b34b",
            "a53246c310c14737a4d8ce2229c08f2c"
          ]
        },
        "id": "tieqwQlibj1C",
        "outputId": "8fde5423-4ee4-4ef2-bd3e-86ef4320e03c"
      },
      "source": [
        "@interact(columna = combustible.columns.to_list()[1:-1])\r\n",
        "def precios_por_ano(columna):\r\n",
        "  temp = combustible.groupby(combustible[\"Year\"])[columna].sum()\r\n",
        "  temp = temp.drop(columns = \"Date\")\r\n",
        "  temp = temp.to_frame().reset_index()\r\n",
        "  plt.plot(temp[\"Year\"], temp[columna])\r\n",
        "  plt.xlabel(\"Years\")\r\n",
        "  plt.xticks(rotation = 90)\r\n",
        "  plt.ylabel(str(columna) + \" (USD)\")\r\n",
        "  plt.title(\"Prices by year for \" + str(columna) + \" Gasoline\")\r\n",
        "  plt.grid()\r\n",
        "  plt.show()"
      ],
      "execution_count": 7,
      "outputs": [
        {
          "output_type": "display_data",
          "data": {
            "application/vnd.jupyter.widget-view+json": {
              "model_id": "4dac564c940d42729f205222b021ccba",
              "version_minor": 0,
              "version_major": 2
            },
            "text/plain": [
              "interactive(children=(Dropdown(description='columna', options=('A1', 'A2', 'A3', 'R1', 'R2', 'R3', 'M1', 'M2',…"
            ]
          },
          "metadata": {
            "tags": []
          }
        }
      ]
    },
    {
      "cell_type": "markdown",
      "metadata": {
        "id": "OvtYMeU9FMz5"
      },
      "source": [
        "Se copia y modifica el dataset para eliminar la columna año y se transforma la columna año en int"
      ]
    },
    {
      "cell_type": "code",
      "metadata": {
        "colab": {
          "base_uri": "https://localhost:8080/"
        },
        "id": "gOK9rUOfomdI",
        "outputId": "278403f3-ac6b-4467-b3df-3b083077ba09"
      },
      "source": [
        "new_combustible = combustible.drop(columns = \"Year\")\r\n",
        "new_combustible[\"Date\"] = new_combustible[\"Date\"].apply(lambda x : x.replace(\"/\", \"\"))\r\n",
        "new_combustible[\"Date\"] = new_combustible[\"Date\"].astype(\"int\")\r\n",
        "new_combustible.dtypes"
      ],
      "execution_count": 8,
      "outputs": [
        {
          "output_type": "execute_result",
          "data": {
            "text/plain": [
              "Date      int64\n",
              "A1      float64\n",
              "A2      float64\n",
              "A3      float64\n",
              "R1      float64\n",
              "R2      float64\n",
              "R3      float64\n",
              "M1      float64\n",
              "M2      float64\n",
              "M3      float64\n",
              "P1      float64\n",
              "P2      float64\n",
              "P3      float64\n",
              "D1      float64\n",
              "dtype: object"
            ]
          },
          "metadata": {
            "tags": []
          },
          "execution_count": 8
        }
      ]
    },
    {
      "cell_type": "markdown",
      "metadata": {
        "id": "ORCeYpRWFcpC"
      },
      "source": [
        "Se crea una lista con varios estimadores lineales, los cuales seran comparados"
      ]
    },
    {
      "cell_type": "code",
      "metadata": {
        "id": "Li0onyu9t1js"
      },
      "source": [
        "r_lasso = Lasso(normalize = True)\r\n",
        "r_ridge = Ridge(normalize = True)\r\n",
        "r_elastic = ElasticNet(normalize = True)\r\n",
        "r_bagging = BaggingRegressor()\r\n",
        "r_adaboost = AdaBoostRegressor(n_estimators = 10)\r\n",
        "r_gradient = GradientBoostingRegressor(n_estimators = 10)\r\n",
        "r_forest = RandomForestRegressor(n_estimators = 10)\r\n",
        "estimadores = [r_lasso, r_ridge, r_elastic, r_bagging, r_adaboost, r_gradient, r_forest]"
      ],
      "execution_count": 9,
      "outputs": []
    },
    {
      "cell_type": "markdown",
      "metadata": {
        "id": "1UyM1izuFnxM"
      },
      "source": [
        "Se crea una funcion para eliminar algunos caracteres extras para poder nombrar cada uno de los estimadores en una tabla"
      ]
    },
    {
      "cell_type": "code",
      "metadata": {
        "id": "MeAJ59Ebzptx"
      },
      "source": [
        "def nombrar_estimadores(estimador):\r\n",
        "  iterador = 0\r\n",
        "  nombre = \"\"\r\n",
        "  for i in str(estimador):\r\n",
        "    iterador += 1\r\n",
        "    if i == \"(\":\r\n",
        "      nombre = str(estimador)[0:iterador - 1]\r\n",
        "  return nombre"
      ],
      "execution_count": 10,
      "outputs": []
    },
    {
      "cell_type": "markdown",
      "metadata": {
        "id": "yrWKPcOuF0pH"
      },
      "source": [
        "Se crean metricas de evaluacion"
      ]
    },
    {
      "cell_type": "code",
      "metadata": {
        "id": "1hG3mJ5j1_Fo"
      },
      "source": [
        "def rmse(y_true, y_pred):\r\n",
        "  return np.sqrt(mean_squared_error(y_true, y_pred))\r\n",
        "\r\n",
        "def rmse_cv(estimador, X, y):\r\n",
        "  preds = estimador.predict(X)\r\n",
        "  return rmse(y, preds)"
      ],
      "execution_count": 11,
      "outputs": []
    },
    {
      "cell_type": "markdown",
      "metadata": {
        "id": "8YDx9Og4F7th"
      },
      "source": [
        "Se crea una funcion para hacer validacion cruzada de cada una de las columnas del dataset el valor X es la columna \"Date\" anteriormente transformada en int"
      ]
    },
    {
      "cell_type": "code",
      "metadata": {
        "id": "nUx8HkzSv69m"
      },
      "source": [
        "def seleccion_regresor(estimador):\r\n",
        "  resultados = []\r\n",
        "  for i in new_combustible.columns[1:]:\r\n",
        "    resultados.append(\r\n",
        "        cross_val_score(\r\n",
        "            estimador,\r\n",
        "            new_combustible[\"Date\"].values.reshape(-1, 1),\r\n",
        "            new_combustible[i],\r\n",
        "            scoring = rmse_cv,\r\n",
        "            cv = 5\r\n",
        "        ).mean()\r\n",
        "    )\r\n",
        "  return resultados"
      ],
      "execution_count": 12,
      "outputs": []
    },
    {
      "cell_type": "markdown",
      "metadata": {
        "id": "bt4ojil3GPad"
      },
      "source": [
        "Se crea el dataframe iterando por cada uno de los estimadores para posteriormente ser evaluados"
      ]
    },
    {
      "cell_type": "code",
      "metadata": {
        "id": "iYRegiRQ2hYk"
      },
      "source": [
        "def crear_dataframe(estimadores):\r\n",
        "  totales = pd.DataFrame(index = new_combustible.drop(columns = \"Date\").columns)\r\n",
        "  for i in estimadores:\r\n",
        "    totales[nombrar_estimadores(i)] = seleccion_regresor(i)\r\n",
        "  return totales"
      ],
      "execution_count": 13,
      "outputs": []
    },
    {
      "cell_type": "markdown",
      "metadata": {
        "id": "AgS2HZlNGY11"
      },
      "source": [
        "Como se puede notar, cada uno de los estimadores dio diferentes resultados para cada columna"
      ]
    },
    {
      "cell_type": "code",
      "metadata": {
        "colab": {
          "base_uri": "https://localhost:8080/",
          "height": 452
        },
        "id": "E0cFuUKH9FCl",
        "outputId": "9a906bb1-9371-4d09-8ad5-d9221c5cd150"
      },
      "source": [
        "resultados = crear_dataframe(estimadores)\r\n",
        "resultados"
      ],
      "execution_count": 14,
      "outputs": [
        {
          "output_type": "execute_result",
          "data": {
            "text/html": [
              "<div>\n",
              "<style scoped>\n",
              "    .dataframe tbody tr th:only-of-type {\n",
              "        vertical-align: middle;\n",
              "    }\n",
              "\n",
              "    .dataframe tbody tr th {\n",
              "        vertical-align: top;\n",
              "    }\n",
              "\n",
              "    .dataframe thead th {\n",
              "        text-align: right;\n",
              "    }\n",
              "</style>\n",
              "<table border=\"1\" class=\"dataframe\">\n",
              "  <thead>\n",
              "    <tr style=\"text-align: right;\">\n",
              "      <th></th>\n",
              "      <th>Lasso</th>\n",
              "      <th>Ridge</th>\n",
              "      <th>ElasticNet</th>\n",
              "      <th>BaggingRegressor</th>\n",
              "      <th>AdaBoostRegressor</th>\n",
              "      <th>GradientBoostingRegressor</th>\n",
              "      <th>RandomForestRegressor</th>\n",
              "    </tr>\n",
              "  </thead>\n",
              "  <tbody>\n",
              "    <tr>\n",
              "      <th>A1</th>\n",
              "      <td>0.966968</td>\n",
              "      <td>0.966842</td>\n",
              "      <td>0.966968</td>\n",
              "      <td>0.946526</td>\n",
              "      <td>0.935349</td>\n",
              "      <td>0.962335</td>\n",
              "      <td>0.942133</td>\n",
              "    </tr>\n",
              "    <tr>\n",
              "      <th>A2</th>\n",
              "      <td>0.946005</td>\n",
              "      <td>0.945874</td>\n",
              "      <td>0.946005</td>\n",
              "      <td>0.929625</td>\n",
              "      <td>0.913096</td>\n",
              "      <td>0.941967</td>\n",
              "      <td>0.934182</td>\n",
              "    </tr>\n",
              "    <tr>\n",
              "      <th>A3</th>\n",
              "      <td>1.001862</td>\n",
              "      <td>1.001752</td>\n",
              "      <td>1.001862</td>\n",
              "      <td>0.941139</td>\n",
              "      <td>0.965891</td>\n",
              "      <td>0.996004</td>\n",
              "      <td>0.937833</td>\n",
              "    </tr>\n",
              "    <tr>\n",
              "      <th>R1</th>\n",
              "      <td>0.953016</td>\n",
              "      <td>0.952905</td>\n",
              "      <td>0.953016</td>\n",
              "      <td>0.942650</td>\n",
              "      <td>0.917531</td>\n",
              "      <td>0.948577</td>\n",
              "      <td>0.929630</td>\n",
              "    </tr>\n",
              "    <tr>\n",
              "      <th>R2</th>\n",
              "      <td>0.933939</td>\n",
              "      <td>0.933810</td>\n",
              "      <td>0.933939</td>\n",
              "      <td>0.931569</td>\n",
              "      <td>0.900244</td>\n",
              "      <td>0.929852</td>\n",
              "      <td>0.932653</td>\n",
              "    </tr>\n",
              "    <tr>\n",
              "      <th>R3</th>\n",
              "      <td>0.989760</td>\n",
              "      <td>0.989688</td>\n",
              "      <td>0.989760</td>\n",
              "      <td>0.946841</td>\n",
              "      <td>0.951764</td>\n",
              "      <td>0.984301</td>\n",
              "      <td>0.945287</td>\n",
              "    </tr>\n",
              "    <tr>\n",
              "      <th>M1</th>\n",
              "      <td>1.009237</td>\n",
              "      <td>1.009036</td>\n",
              "      <td>1.009237</td>\n",
              "      <td>0.920192</td>\n",
              "      <td>0.972719</td>\n",
              "      <td>1.003328</td>\n",
              "      <td>0.927232</td>\n",
              "    </tr>\n",
              "    <tr>\n",
              "      <th>M2</th>\n",
              "      <td>0.977261</td>\n",
              "      <td>0.977064</td>\n",
              "      <td>0.977261</td>\n",
              "      <td>0.929052</td>\n",
              "      <td>0.945276</td>\n",
              "      <td>0.972581</td>\n",
              "      <td>0.930290</td>\n",
              "    </tr>\n",
              "    <tr>\n",
              "      <th>M3</th>\n",
              "      <td>1.045017</td>\n",
              "      <td>1.044827</td>\n",
              "      <td>1.045017</td>\n",
              "      <td>0.948972</td>\n",
              "      <td>1.017594</td>\n",
              "      <td>1.037707</td>\n",
              "      <td>0.940874</td>\n",
              "    </tr>\n",
              "    <tr>\n",
              "      <th>P1</th>\n",
              "      <td>1.052161</td>\n",
              "      <td>1.051920</td>\n",
              "      <td>1.052161</td>\n",
              "      <td>0.949993</td>\n",
              "      <td>1.013581</td>\n",
              "      <td>1.045918</td>\n",
              "      <td>0.952197</td>\n",
              "    </tr>\n",
              "    <tr>\n",
              "      <th>P2</th>\n",
              "      <td>1.030431</td>\n",
              "      <td>1.030217</td>\n",
              "      <td>1.030431</td>\n",
              "      <td>0.931619</td>\n",
              "      <td>1.002116</td>\n",
              "      <td>1.024981</td>\n",
              "      <td>0.927216</td>\n",
              "    </tr>\n",
              "    <tr>\n",
              "      <th>P3</th>\n",
              "      <td>1.069807</td>\n",
              "      <td>1.069533</td>\n",
              "      <td>1.069807</td>\n",
              "      <td>0.950051</td>\n",
              "      <td>1.028008</td>\n",
              "      <td>1.062442</td>\n",
              "      <td>0.965718</td>\n",
              "    </tr>\n",
              "    <tr>\n",
              "      <th>D1</th>\n",
              "      <td>1.142306</td>\n",
              "      <td>1.141684</td>\n",
              "      <td>1.142306</td>\n",
              "      <td>1.074514</td>\n",
              "      <td>1.114656</td>\n",
              "      <td>1.139393</td>\n",
              "      <td>1.085661</td>\n",
              "    </tr>\n",
              "  </tbody>\n",
              "</table>\n",
              "</div>"
            ],
            "text/plain": [
              "       Lasso     Ridge  ...  GradientBoostingRegressor  RandomForestRegressor\n",
              "A1  0.966968  0.966842  ...                   0.962335               0.942133\n",
              "A2  0.946005  0.945874  ...                   0.941967               0.934182\n",
              "A3  1.001862  1.001752  ...                   0.996004               0.937833\n",
              "R1  0.953016  0.952905  ...                   0.948577               0.929630\n",
              "R2  0.933939  0.933810  ...                   0.929852               0.932653\n",
              "R3  0.989760  0.989688  ...                   0.984301               0.945287\n",
              "M1  1.009237  1.009036  ...                   1.003328               0.927232\n",
              "M2  0.977261  0.977064  ...                   0.972581               0.930290\n",
              "M3  1.045017  1.044827  ...                   1.037707               0.940874\n",
              "P1  1.052161  1.051920  ...                   1.045918               0.952197\n",
              "P2  1.030431  1.030217  ...                   1.024981               0.927216\n",
              "P3  1.069807  1.069533  ...                   1.062442               0.965718\n",
              "D1  1.142306  1.141684  ...                   1.139393               1.085661\n",
              "\n",
              "[13 rows x 7 columns]"
            ]
          },
          "metadata": {
            "tags": []
          },
          "execution_count": 14
        }
      ]
    },
    {
      "cell_type": "markdown",
      "metadata": {
        "id": "srmrkolMGjfG"
      },
      "source": [
        "Utilizando de nuevo interact se puede seleccionar una columna del dataset anterior y comparar los resultados de cada uno de los estimadores, por ultimo, se agrego una nueva columna que indica que estimador fue el mejor"
      ]
    },
    {
      "cell_type": "code",
      "metadata": {
        "colab": {
          "base_uri": "https://localhost:8080/",
          "height": 214,
          "referenced_widgets": [
            "e7f2533ccb924f2fb9ce7cdab331c2e9",
            "e637382a68f644ed99957feb4b75657a",
            "15dcc26d51d54f2682a44428a9298d9f",
            "d5f022bbbff94d3b8b138f48a0b5a3dc",
            "4001b670402741839426611a69e746b5",
            "5a887e88f7e149dcb36cfd344224e2c2",
            "a42e4e467f9043a1919b7dee25456a5e"
          ]
        },
        "id": "f7kj1n-n-XFn",
        "outputId": "b2d06fdc-e6ae-405e-f0f7-f028e4ea2499"
      },
      "source": [
        "@interact(combustible = new_combustible.drop(columns = \"Date\").columns)\r\n",
        "def mejor_estimador(combustible):\r\n",
        "  valor = resultados[resultados.index == combustible]\r\n",
        "  valor[\"Mejor estimador\"] = valor.idxmin(axis = 1)\r\n",
        "  return valor"
      ],
      "execution_count": 15,
      "outputs": [
        {
          "output_type": "display_data",
          "data": {
            "application/vnd.jupyter.widget-view+json": {
              "model_id": "e7f2533ccb924f2fb9ce7cdab331c2e9",
              "version_minor": 0,
              "version_major": 2
            },
            "text/plain": [
              "interactive(children=(Dropdown(description='combustible', options=('A1', 'A2', 'A3', 'R1', 'R2', 'R3', 'M1', '…"
            ]
          },
          "metadata": {
            "tags": []
          }
        }
      ]
    }
  ]
}